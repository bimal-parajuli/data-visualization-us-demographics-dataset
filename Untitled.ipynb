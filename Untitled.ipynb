{
 "cells": [
  {
   "cell_type": "code",
   "execution_count": 3,
   "id": "28d1e755",
   "metadata": {},
   "outputs": [],
   "source": [
    "import pandas as pd\n",
    "import numpy as np\n",
    "\n",
    "import dash\n",
    "# import dash_core_components as dcc\n",
    "# import dash_html_components as html\n",
    "\n",
    "from dash import dcc\n",
    "from dash import html\n",
    "\n",
    "from dash import Dash\n",
    "from dash import callback \n",
    "from dash import Output\n",
    "from dash import Input\n"
   ]
  },
  {
   "cell_type": "code",
   "execution_count": 4,
   "id": "a2d22c12",
   "metadata": {},
   "outputs": [],
   "source": [
    "app = dash.Dash()"
   ]
  },
  {
   "cell_type": "code",
   "execution_count": null,
   "id": "c997727f",
   "metadata": {},
   "outputs": [],
   "source": []
  },
  {
   "cell_type": "code",
   "execution_count": 5,
   "id": "e7d98067",
   "metadata": {},
   "outputs": [
    {
     "data": {
      "text/plain": [
       "(3220, 37)"
      ]
     },
     "execution_count": 5,
     "metadata": {},
     "output_type": "execute_result"
    }
   ],
   "source": [
    "county_data = pd.read_csv('../01-DataSet-acs2015_county_data.csv')\n",
    "county_data.shape"
   ]
  },
  {
   "cell_type": "code",
   "execution_count": 6,
   "id": "cac0a7f8",
   "metadata": {},
   "outputs": [
    {
     "data": {
      "text/plain": [
       "(51, 2)"
      ]
     },
     "execution_count": 6,
     "metadata": {},
     "output_type": "execute_result"
    }
   ],
   "source": [
    "state_code = pd.read_csv('../DataSet/state_codes.csv')\n",
    "state_code.shape"
   ]
  },
  {
   "cell_type": "code",
   "execution_count": 7,
   "id": "ae1ede86",
   "metadata": {},
   "outputs": [
    {
     "data": {
      "text/html": [
       "<div>\n",
       "<style scoped>\n",
       "    .dataframe tbody tr th:only-of-type {\n",
       "        vertical-align: middle;\n",
       "    }\n",
       "\n",
       "    .dataframe tbody tr th {\n",
       "        vertical-align: top;\n",
       "    }\n",
       "\n",
       "    .dataframe thead th {\n",
       "        text-align: right;\n",
       "    }\n",
       "</style>\n",
       "<table border=\"1\" class=\"dataframe\">\n",
       "  <thead>\n",
       "    <tr style=\"text-align: right;\">\n",
       "      <th></th>\n",
       "      <th>CensusId</th>\n",
       "      <th>State</th>\n",
       "      <th>County</th>\n",
       "      <th>TotalPop</th>\n",
       "      <th>Men</th>\n",
       "      <th>Women</th>\n",
       "      <th>Hispanic</th>\n",
       "      <th>White</th>\n",
       "      <th>Black</th>\n",
       "      <th>Native</th>\n",
       "      <th>...</th>\n",
       "      <th>OtherTransp</th>\n",
       "      <th>WorkAtHome</th>\n",
       "      <th>MeanCommute</th>\n",
       "      <th>Employed</th>\n",
       "      <th>PrivateWork</th>\n",
       "      <th>PublicWork</th>\n",
       "      <th>SelfEmployed</th>\n",
       "      <th>FamilyWork</th>\n",
       "      <th>Unemployment</th>\n",
       "      <th>Abbreviation</th>\n",
       "    </tr>\n",
       "  </thead>\n",
       "  <tbody>\n",
       "    <tr>\n",
       "      <th>0</th>\n",
       "      <td>1001</td>\n",
       "      <td>Alabama</td>\n",
       "      <td>Autauga</td>\n",
       "      <td>55221</td>\n",
       "      <td>26745</td>\n",
       "      <td>28476</td>\n",
       "      <td>2.6</td>\n",
       "      <td>75.8</td>\n",
       "      <td>18.5</td>\n",
       "      <td>0.4</td>\n",
       "      <td>...</td>\n",
       "      <td>1.3</td>\n",
       "      <td>1.8</td>\n",
       "      <td>26.5</td>\n",
       "      <td>23986</td>\n",
       "      <td>73.6</td>\n",
       "      <td>20.9</td>\n",
       "      <td>5.5</td>\n",
       "      <td>0.0</td>\n",
       "      <td>7.6</td>\n",
       "      <td>AL</td>\n",
       "    </tr>\n",
       "    <tr>\n",
       "      <th>1</th>\n",
       "      <td>1003</td>\n",
       "      <td>Alabama</td>\n",
       "      <td>Baldwin</td>\n",
       "      <td>195121</td>\n",
       "      <td>95314</td>\n",
       "      <td>99807</td>\n",
       "      <td>4.5</td>\n",
       "      <td>83.1</td>\n",
       "      <td>9.5</td>\n",
       "      <td>0.6</td>\n",
       "      <td>...</td>\n",
       "      <td>1.4</td>\n",
       "      <td>3.9</td>\n",
       "      <td>26.4</td>\n",
       "      <td>85953</td>\n",
       "      <td>81.5</td>\n",
       "      <td>12.3</td>\n",
       "      <td>5.8</td>\n",
       "      <td>0.4</td>\n",
       "      <td>7.5</td>\n",
       "      <td>AL</td>\n",
       "    </tr>\n",
       "    <tr>\n",
       "      <th>2</th>\n",
       "      <td>1005</td>\n",
       "      <td>Alabama</td>\n",
       "      <td>Barbour</td>\n",
       "      <td>26932</td>\n",
       "      <td>14497</td>\n",
       "      <td>12435</td>\n",
       "      <td>4.6</td>\n",
       "      <td>46.2</td>\n",
       "      <td>46.7</td>\n",
       "      <td>0.2</td>\n",
       "      <td>...</td>\n",
       "      <td>1.5</td>\n",
       "      <td>1.6</td>\n",
       "      <td>24.1</td>\n",
       "      <td>8597</td>\n",
       "      <td>71.8</td>\n",
       "      <td>20.8</td>\n",
       "      <td>7.3</td>\n",
       "      <td>0.1</td>\n",
       "      <td>17.6</td>\n",
       "      <td>AL</td>\n",
       "    </tr>\n",
       "    <tr>\n",
       "      <th>3</th>\n",
       "      <td>1007</td>\n",
       "      <td>Alabama</td>\n",
       "      <td>Bibb</td>\n",
       "      <td>22604</td>\n",
       "      <td>12073</td>\n",
       "      <td>10531</td>\n",
       "      <td>2.2</td>\n",
       "      <td>74.5</td>\n",
       "      <td>21.4</td>\n",
       "      <td>0.4</td>\n",
       "      <td>...</td>\n",
       "      <td>1.5</td>\n",
       "      <td>0.7</td>\n",
       "      <td>28.8</td>\n",
       "      <td>8294</td>\n",
       "      <td>76.8</td>\n",
       "      <td>16.1</td>\n",
       "      <td>6.7</td>\n",
       "      <td>0.4</td>\n",
       "      <td>8.3</td>\n",
       "      <td>AL</td>\n",
       "    </tr>\n",
       "    <tr>\n",
       "      <th>4</th>\n",
       "      <td>1009</td>\n",
       "      <td>Alabama</td>\n",
       "      <td>Blount</td>\n",
       "      <td>57710</td>\n",
       "      <td>28512</td>\n",
       "      <td>29198</td>\n",
       "      <td>8.6</td>\n",
       "      <td>87.9</td>\n",
       "      <td>1.5</td>\n",
       "      <td>0.3</td>\n",
       "      <td>...</td>\n",
       "      <td>0.4</td>\n",
       "      <td>2.3</td>\n",
       "      <td>34.9</td>\n",
       "      <td>22189</td>\n",
       "      <td>82.0</td>\n",
       "      <td>13.5</td>\n",
       "      <td>4.2</td>\n",
       "      <td>0.4</td>\n",
       "      <td>7.7</td>\n",
       "      <td>AL</td>\n",
       "    </tr>\n",
       "  </tbody>\n",
       "</table>\n",
       "<p>5 rows × 38 columns</p>\n",
       "</div>"
      ],
      "text/plain": [
       "   CensusId    State   County  TotalPop    Men  Women  Hispanic  White  Black  \\\n",
       "0      1001  Alabama  Autauga     55221  26745  28476       2.6   75.8   18.5   \n",
       "1      1003  Alabama  Baldwin    195121  95314  99807       4.5   83.1    9.5   \n",
       "2      1005  Alabama  Barbour     26932  14497  12435       4.6   46.2   46.7   \n",
       "3      1007  Alabama     Bibb     22604  12073  10531       2.2   74.5   21.4   \n",
       "4      1009  Alabama   Blount     57710  28512  29198       8.6   87.9    1.5   \n",
       "\n",
       "   Native  ...  OtherTransp  WorkAtHome  MeanCommute  Employed  PrivateWork  \\\n",
       "0     0.4  ...          1.3         1.8         26.5     23986         73.6   \n",
       "1     0.6  ...          1.4         3.9         26.4     85953         81.5   \n",
       "2     0.2  ...          1.5         1.6         24.1      8597         71.8   \n",
       "3     0.4  ...          1.5         0.7         28.8      8294         76.8   \n",
       "4     0.3  ...          0.4         2.3         34.9     22189         82.0   \n",
       "\n",
       "   PublicWork  SelfEmployed  FamilyWork  Unemployment  Abbreviation  \n",
       "0        20.9           5.5         0.0           7.6            AL  \n",
       "1        12.3           5.8         0.4           7.5            AL  \n",
       "2        20.8           7.3         0.1          17.6            AL  \n",
       "3        16.1           6.7         0.4           8.3            AL  \n",
       "4        13.5           4.2         0.4           7.7            AL  \n",
       "\n",
       "[5 rows x 38 columns]"
      ]
     },
     "execution_count": 7,
     "metadata": {},
     "output_type": "execute_result"
    }
   ],
   "source": [
    "df = pd.merge(county_data, state_code, right_on = 'State', left_on = 'State')\n",
    "df.head()"
   ]
  },
  {
   "cell_type": "code",
   "execution_count": 8,
   "id": "a653ebee",
   "metadata": {},
   "outputs": [],
   "source": [
    "# Black Minority population.\n",
    "# df[['Black','Native','Asian','Pacific','White']]\n",
    "df['BlackPop'] = (df['TotalPop'] * df['Black'] / 100).round().astype(np.int64)\n",
    "df['WhitePop'] = (df['TotalPop'] * df['White'] / 100).round().astype(np.int64)\n",
    "df['HispanicPop'] = (df['TotalPop'] * df['Hispanic'] / 100).round().astype(np.int64)\n",
    "df['AsianPop'] = (df['TotalPop'] * df['Asian'] / 100).round().astype(np.int64)\n"
   ]
  },
  {
   "cell_type": "code",
   "execution_count": null,
   "id": "ece3a641",
   "metadata": {},
   "outputs": [],
   "source": []
  },
  {
   "cell_type": "code",
   "execution_count": 9,
   "id": "2dcbb264",
   "metadata": {},
   "outputs": [
    {
     "data": {
      "text/plain": [
       "38786341"
      ]
     },
     "execution_count": 9,
     "metadata": {},
     "output_type": "execute_result"
    }
   ],
   "source": [
    "\n",
    "black_by_state = df.groupby('Abbreviation')['BlackPop'].sum().reset_index()\n",
    "black_by_state.columns = ['StateCode', 'Population']\n",
    "\n",
    "black_by_state['Population'].sum()\n"
   ]
  },
  {
   "cell_type": "code",
   "execution_count": 10,
   "id": "7914567a",
   "metadata": {},
   "outputs": [
    {
     "data": {
      "text/plain": [
       "16052817"
      ]
     },
     "execution_count": 10,
     "metadata": {},
     "output_type": "execute_result"
    }
   ],
   "source": [
    "\n",
    "asian_by_state = df.groupby('Abbreviation')['AsianPop'].sum().reset_index()\n",
    "asian_by_state.columns = ['StateCode', 'Population']\n",
    "\n",
    "asian_by_state['Population'].sum()\n"
   ]
  },
  {
   "cell_type": "code",
   "execution_count": 11,
   "id": "84f652d7",
   "metadata": {},
   "outputs": [
    {
     "data": {
      "text/plain": [
       "54223051"
      ]
     },
     "execution_count": 11,
     "metadata": {},
     "output_type": "execute_result"
    }
   ],
   "source": [
    "\n",
    "hispanic_by_state = df.groupby('Abbreviation')['HispanicPop'].sum().reset_index()\n",
    "hispanic_by_state.columns = ['StateCode', 'Population']\n",
    "\n",
    "hispanic_by_state['Population'].sum()\n"
   ]
  },
  {
   "cell_type": "code",
   "execution_count": 12,
   "id": "428fcc72",
   "metadata": {},
   "outputs": [
    {
     "data": {
      "text/plain": [
       "197255335"
      ]
     },
     "execution_count": 12,
     "metadata": {},
     "output_type": "execute_result"
    }
   ],
   "source": [
    "\n",
    "white_by_state = df.groupby('Abbreviation')['WhitePop'].sum().reset_index()\n",
    "white_by_state.columns = ['StateCode', 'Population']\n",
    "\n",
    "white_by_state['Population'].sum()"
   ]
  },
  {
   "cell_type": "code",
   "execution_count": null,
   "id": "935dcaf5",
   "metadata": {},
   "outputs": [],
   "source": []
  },
  {
   "cell_type": "code",
   "execution_count": 13,
   "id": "5680fe75",
   "metadata": {},
   "outputs": [],
   "source": [
    "app.layout = html.Div([\n",
    "    html.H1('Dash 101..'),\n",
    "    html.Div('Data Visualization Dashboarding Project'),\n",
    "    \n",
    "    dcc.Graph(\n",
    "        id='mygraph1',\n",
    "        figure = {\n",
    "            'data' : [\n",
    "                {'x': [4,6,8], 'y': [12, 16,18], 'type':'bar', 'name':'First Chart'}\n",
    "            ],\n",
    "            'layout': {\n",
    "                'title': 'Simple Bar chart'\n",
    "            }\n",
    "        }\n",
    "    )\n",
    "])"
   ]
  },
  {
   "cell_type": "code",
   "execution_count": 14,
   "id": "e2c0e7bb",
   "metadata": {},
   "outputs": [
    {
     "data": {
      "text/html": [
       "\n",
       "        <iframe\n",
       "            width=\"100%\"\n",
       "            height=\"650\"\n",
       "            src=\"http://127.0.0.1:6969/\"\n",
       "            frameborder=\"0\"\n",
       "            allowfullscreen\n",
       "            \n",
       "        ></iframe>\n",
       "        "
      ],
      "text/plain": [
       "<IPython.lib.display.IFrame at 0x2ae6556bdc0>"
      ]
     },
     "metadata": {},
     "output_type": "display_data"
    }
   ],
   "source": [
    "if __name__ == '__main__':\n",
    "    app.run_server(port = 6969)"
   ]
  },
  {
   "cell_type": "code",
   "execution_count": 15,
   "id": "ef3fc4e9",
   "metadata": {},
   "outputs": [],
   "source": [
    "# help(html.P)"
   ]
  },
  {
   "cell_type": "code",
   "execution_count": null,
   "id": "e47d4a55",
   "metadata": {},
   "outputs": [],
   "source": []
  },
  {
   "cell_type": "code",
   "execution_count": null,
   "id": "0bc53aaf",
   "metadata": {},
   "outputs": [],
   "source": []
  },
  {
   "cell_type": "code",
   "execution_count": null,
   "id": "be219c44",
   "metadata": {},
   "outputs": [],
   "source": []
  },
  {
   "cell_type": "code",
   "execution_count": null,
   "id": "12f74f91",
   "metadata": {},
   "outputs": [],
   "source": []
  },
  {
   "cell_type": "code",
   "execution_count": 16,
   "id": "94dafbc8",
   "metadata": {},
   "outputs": [],
   "source": [
    "# import pandas as pd\n",
    "# import plotly.offline as py\n",
    "# import plotly.graph_objs as go\n",
    "\n",
    "# colour_1 = \"rgb(190, 226, 222)\"\n",
    "# colour_2 = \"rgb(27, 173, 172)\"\n",
    "# colour_3 = \"rgb(0, 93, 100)\"\n",
    "\n",
    "# colourscale = [[0, colour_1],\n",
    "#                [0.2, colour_2],\n",
    "#                [1, colour_3]]\n",
    "\n",
    "# countries = ['BDI', 'BEN', 'BFA', 'BWA', 'CIV', 'CMR', 'COD', 'CPV', 'ETH', 'GHA', 'GIN', 'GMB', 'KEN', 'LBR', 'LSO', 'MDG', 'MLI', 'MOZ', 'MUS', 'MWI', 'NER', 'NGA', 'RWA', 'SEN', 'SLE', 'SOM', 'STP', 'TCD', 'TGO', 'TZA', 'UGA', 'ZAF', 'ZMB', 'ZWE']\n",
    "# z = [5, 6, 1, 1, 2, 14, 7, 1, 3, 6, 1, 2, 13, 1, 3, 11, 4, 2, 1, 6, 1, 50, 18, 5, 2, 4, 1, 1, 4, 16, 15, 4, 10, 4]\n",
    "# counts = pd.Series(data=z, index=countries)\n",
    "# code_to_priority = {'MLI': 2, 'BWA': 0, 'CPV': 0, 'ZAF': 0, 'TGO': 1, 'COD': 2, 'KEN': 0, 'SSD': 2, 'CIV': 0, 'NGA': 1, 'MWI': 0, 'SOM': 0, 'MUS': 0, 'MRT': 2, 'ETH': 0, 'RWA': 1, 'TZA': 0, 'TCD': 2, 'MOZ': 2, 'LBR': 0, 'MDG': 1, 'GIN': 1, 'LSO': 0, 'BFA': 2, 'BDI': 0, 'SLE': 0, 'CMR': 0, 'SEN': 0, 'BEN': 0, 'GHA': 0, 'NER': 2, 'ZMB': 0, 'ZWE': 0, 'GMB': 0, 'STP': 0, 'UGA': 0}\n",
    "\n",
    "\n",
    "# def get_trace(priority):\n",
    "#     line_width = 2\n",
    "#     if priority == 0:\n",
    "#         outline_params = dict()  # no special outline\n",
    "#     elif priority == 1:\n",
    "#         outline_params = dict(marker=dict(line=dict(\n",
    "#             color='rgb(250, 86, 93)',\n",
    "#             width=line_width\n",
    "#         )))  # red outline\n",
    "#     else:\n",
    "#         outline_params = dict(marker=dict(line=dict(\n",
    "#             color='rgb(247, 150, 70)',\n",
    "#             width=line_width\n",
    "#         )))  # orange outline\n",
    "#     mask = counts.index.map(code_to_priority) == priority\n",
    "#     out = dict(\n",
    "#         type='choropleth',\n",
    "#         locations=list(counts[mask].index),\n",
    "#         locationmode='ISO-3',\n",
    "#         colorscale=colourscale,\n",
    "#         z=list(counts[mask]),\n",
    "#         zmin=0,\n",
    "#         zmax=counts.max())\n",
    "#     out.update(outline_params)\n",
    "#     return out\n",
    "\n",
    "\n",
    "# data_p0 = get_trace(0)\n",
    "# data_p1 = get_trace(1)\n",
    "# data_p2 = get_trace(2)\n",
    "# layout = dict(\n",
    "#     geo={'scope': 'africa'},\n",
    "#     title='Number of projects supported by the Help Desk, by country',\n",
    "#     title_x=0.5)\n",
    "\n",
    "# map = go.Figure(data=[data_p0, data_p2, data_p1], layout=layout)\n",
    "# py.plot(map)"
   ]
  },
  {
   "cell_type": "code",
   "execution_count": 17,
   "id": "33543944",
   "metadata": {},
   "outputs": [],
   "source": [
    "# import dash\n",
    "# import dash_core_components as dcc\n",
    "# import dash_html_components as html\n",
    "# import plotly.express as px\n",
    "# import pandas as pd\n",
    "\n",
    "# # Sample data for demonstration\n",
    "# # You should replace these with your actual data\n",
    "# df = pd.DataFrame({\n",
    "#     'StateName': ['StateA', 'StateB', 'StateC'],\n",
    "#     'County': ['County1', 'County2', 'County3'],\n",
    "#     'CountyPopulation': [1000, 2000, 1500],\n",
    "#     'AvgIncome': [45000, 50000, 42000]\n",
    "# })\n",
    "\n",
    "# statewise_black = pd.DataFrame({\n",
    "#     'StateName': ['StateA', 'StateB', 'StateC'],\n",
    "#     'BlackPopulation': [200, 300, 400]\n",
    "# })\n",
    "\n",
    "# statewise_hispanic = pd.DataFrame({\n",
    "#     'StateName': ['StateA', 'StateB', 'StateC'],\n",
    "#     'HispanicPopulation': [150, 250, 300]\n",
    "# })\n",
    "\n",
    "# statewise_population = pd.DataFrame({\n",
    "#     'StateName': ['StateA', 'StateB', 'StateC'],\n",
    "#     'TotalPopulation': [2500, 3500, 4500]\n",
    "# })\n",
    "\n",
    "# # Initialize the Dash app\n",
    "# app = dash.Dash(__name__)\n",
    "\n",
    "# # Layout of the Dash app\n",
    "# app.layout = html.Div([\n",
    "#     html.H1('Multi-State Data Visualization'),\n",
    "    \n",
    "#     # Multi-select dropdown for selecting states\n",
    "#     dcc.Dropdown(\n",
    "#         id='state-dropdown',\n",
    "#         options=[\n",
    "#             {'label': 'StateA', 'value': 'StateA'},\n",
    "#             {'label': 'StateB', 'value': 'StateB'},\n",
    "#             {'label': 'StateC', 'value': 'StateC'}\n",
    "#         ],\n",
    "#         multi=True  # Allow multiple selections\n",
    "#     ),\n",
    "    \n",
    "#     # Interactive dot plot for Income per capita\n",
    "#     dcc.Graph(id='dot-plot'),\n",
    "    \n",
    "#     # Grouped bar chart for minority populations\n",
    "#     dcc.Graph(id='bar-chart'),\n",
    "    \n",
    "#     # Choropleth map for selected state populations\n",
    "# #     dcc.Graph(id='choropleth-map')\n",
    "# ])\n",
    "\n",
    "# # Callback functions to update plots based on dropdown selection\n",
    "# @app.callback(\n",
    "#     dash.dependencies.Output('dot-plot', 'figure'),\n",
    "#     dash.dependencies.Output('bar-chart', 'figure'),\n",
    "#     dash.dependencies.Output('choropleth-map', 'figure'),\n",
    "#     dash.dependencies.Input('state-dropdown', 'value')\n",
    "# )\n",
    "# def update_plots(selected_states):\n",
    "#     # Filter data based on selected states\n",
    "#     filtered_df = df[df['StateName'].isin(selected_states)]\n",
    "#     filtered_black = statewise_black[statewise_black['StateName'].isin(selected_states)]\n",
    "#     filtered_hispanic = statewise_hispanic[statewise_hispanic['StateName'].isin(selected_states)]\n",
    "#     filtered_population = statewise_population[statewise_population['StateName'].isin(selected_states)]\n",
    "\n",
    "#     # Create plots based on filtered data\n",
    "#     # You can customize the chart types, data, and styles\n",
    "#     dot_plot = px.scatter(filtered_df, x='County', y='AvgIncome', text='AvgIncome', title='Income per capita')\n",
    "#     bar_chart = px.bar(filtered_black, x='StateName', y='BlackPopulation', color='StateName', barmode='group',\n",
    "#                        title='Black Population by State')\n",
    "#     choropleth_map = px.choropleth(filtered_population, locations='StateName', locationmode='USA-states',\n",
    "#                                    color='TotalPopulation', title='State Population', scope='usa')\n",
    "\n",
    "#     return dot_plot, bar_chart, choropleth_map\n",
    "\n",
    "# if __name__ == '__main__':\n",
    "#     app.run_server(debug=True)\n"
   ]
  },
  {
   "cell_type": "code",
   "execution_count": 20,
   "id": "7fc9d5ec",
   "metadata": {
    "scrolled": true
   },
   "outputs": [
    {
     "data": {
      "text/html": [
       "\n",
       "        <iframe\n",
       "            width=\"100%\"\n",
       "            height=\"650\"\n",
       "            src=\"http://127.0.0.1:7171/\"\n",
       "            frameborder=\"0\"\n",
       "            allowfullscreen\n",
       "            \n",
       "        ></iframe>\n",
       "        "
      ],
      "text/plain": [
       "<IPython.lib.display.IFrame at 0x2ae65ab3af0>"
      ]
     },
     "metadata": {},
     "output_type": "display_data"
    },
    {
     "name": "stdout",
     "output_type": "stream",
     "text": [
      "['TX']\n",
      "['TX']\n",
      "['TX', 'FL']\n",
      "['TX', 'FL', 'NY']\n",
      "['TX', 'FL', 'NY', 'IL']\n",
      "['TX', 'FL', 'NY', 'IL', 'CA']\n"
     ]
    }
   ],
   "source": [
    "import dash\n",
    "from dash import dcc, html\n",
    "import plotly.express as px\n",
    "import pandas as pd\n",
    "\n",
    "# Sample statewise population data\n",
    "data = {\n",
    "    'State': ['CA', 'TX', 'FL', 'NY', 'IL'],\n",
    "    'Population': [39538223, 29145505, 21538187, 20383438, 12882135]\n",
    "}\n",
    "\n",
    "# Create a DataFrame from the sample data\n",
    "df = pd.DataFrame(data)\n",
    "\n",
    "# Initialize the Dash app\n",
    "app = dash.Dash(__name__)\n",
    "\n",
    "# Define the app layout\n",
    "app.layout = html.Div([\n",
    "    html.H1('US State Population Dashboard'),\n",
    "    \n",
    "    # Multi-select dropdown for selecting states\n",
    "    dcc.Dropdown(\n",
    "        id='state-dropdown',\n",
    "        options=[\n",
    "            {'label': 'California', 'value': 'CA'},\n",
    "            {'label': 'Texas', 'value': 'TX'},\n",
    "            {'label': 'Florida', 'value': 'FL'},\n",
    "            {'label': 'New York', 'value': 'NY'},\n",
    "            {'label': 'Illinois', 'value': 'IL'}\n",
    "        ],\n",
    "        multi=True,  # Allow multiple selections\n",
    "        value=['TX']\n",
    "    ),\n",
    "    \n",
    "    # Bar graph of selected states' populations\n",
    "    dcc.Graph(id='bar-chart'),\n",
    "    \n",
    "    # Choropleth map of selected states' populations\n",
    "    dcc.Graph(id='choropleth-map')\n",
    "])\n",
    "\n",
    "# Callback function to update plots based on dropdown selection\n",
    "@app.callback(\n",
    "    [dash.dependencies.Output('bar-chart', 'figure'),\n",
    "     dash.dependencies.Output('choropleth-map', 'figure')],\n",
    "    [dash.dependencies.Input('state-dropdown', 'value')]\n",
    ")\n",
    "def update_plots(selected_states):\n",
    "    # Filter data based on selected states\n",
    "    filtered_df = df[df['State'].isin(selected_states)]\n",
    "    filtered_black = df[df['State'].isin(selected_states)]\n",
    "    filtered_asian = df[df['State'].isin(selected_states)]\n",
    "    print(selected_states)\n",
    "    # Create a bar graph\n",
    "    bar_chart = px.bar(filtered_df, y='State', x='Population', title='State Populations', orientation='h')\n",
    "    \n",
    "    # Create a choropleth map (you can customize this based on actual geographic data)\n",
    "    choropleth_map = px.choropleth(\n",
    "        filtered_df, \n",
    "        locations='State', \n",
    "        locationmode='USA-states', \n",
    "        color='Population', \n",
    "        title='Statewise Population',\n",
    "        scope='usa'\n",
    "    )\n",
    "\n",
    "    return bar_chart, choropleth_map\n",
    "\n",
    "if __name__ == '__main__':\n",
    "    app.run_server(port=7171, debug=True)\n"
   ]
  },
  {
   "cell_type": "code",
   "execution_count": 19,
   "id": "69b99a64",
   "metadata": {},
   "outputs": [
    {
     "name": "stderr",
     "output_type": "stream",
     "text": [
      "C:\\Users\\Bimal\\AppData\\Local\\Temp/ipykernel_11972/3958243601.py:5: UserWarning:\n",
      "\n",
      "\n",
      "The dash_core_components package is deprecated. Please replace\n",
      "`import dash_core_components as dcc` with `from dash import dcc`\n",
      "\n",
      "C:\\Users\\Bimal\\AppData\\Local\\Temp/ipykernel_11972/3958243601.py:6: UserWarning:\n",
      "\n",
      "\n",
      "The dash_html_components package is deprecated. Please replace\n",
      "`import dash_html_components as html` with `from dash import html`\n",
      "\n"
     ]
    },
    {
     "data": {
      "text/html": [
       "\n",
       "        <iframe\n",
       "            width=\"100%\"\n",
       "            height=\"650\"\n",
       "            src=\"http://127.0.0.1:8050/\"\n",
       "            frameborder=\"0\"\n",
       "            allowfullscreen\n",
       "            \n",
       "        ></iframe>\n",
       "        "
      ],
      "text/plain": [
       "<IPython.lib.display.IFrame at 0x2ae659c49d0>"
      ]
     },
     "metadata": {},
     "output_type": "display_data"
    }
   ],
   "source": [
    "import pandas as pd\n",
    "import plotly.graph_objs as go\n",
    "import plotly.express as px\n",
    "import dash\n",
    "import dash_core_components as dcc\n",
    "import dash_html_components as html\n",
    "\n",
    "# Data\n",
    "df = px.data.gapminder().query(\"year==2007\")\n",
    "\n",
    "df = df.rename(columns=dict(pop=\"Population\",\n",
    "                            gdpPercap=\"GDP per Capita\",\n",
    "                            lifeExp=\"Life Expectancy\"))\n",
    "\n",
    "cols_dd = [\"Population\", \"GDP per Capita\", \"Life Expectancy\"]\n",
    "\n",
    "app = dash.Dash()\n",
    "app.layout = html.Div([\n",
    "    dcc.Dropdown(\n",
    "        id='demo-dropdown',\n",
    "        options=[{'label': k, 'value': k} for k in cols_dd],\n",
    "        value=cols_dd[0]\n",
    "    ),\n",
    "\n",
    "    html.Hr(),\n",
    "    dcc.Graph(id='display-selected-values'),\n",
    "\n",
    "])\n",
    "\n",
    "@app.callback(\n",
    "    dash.dependencies.Output('display-selected-values', 'figure'),\n",
    "    [dash.dependencies.Input('demo-dropdown', 'value')])\n",
    "def update_output(value):\n",
    "    fig = go.Figure()\n",
    "    fig.add_trace(go.Choropleth(\n",
    "       locations=df['iso_alpha'], # Spatial coordinates\n",
    "        z=df[value].astype(float), # Data to be color-coded\n",
    "        colorbar_title=value))\n",
    "    fig.update_layout(title=f\"<b>{value}</b>\", title_x=0.5)\n",
    "    return fig\n",
    "\n",
    "if __name__ == '__main__':\n",
    "    app.run_server()\n"
   ]
  },
  {
   "cell_type": "code",
   "execution_count": null,
   "id": "3983f4ef",
   "metadata": {},
   "outputs": [],
   "source": []
  }
 ],
 "metadata": {
  "kernelspec": {
   "display_name": "Python 3 (ipykernel)",
   "language": "python",
   "name": "python3"
  },
  "language_info": {
   "codemirror_mode": {
    "name": "ipython",
    "version": 3
   },
   "file_extension": ".py",
   "mimetype": "text/x-python",
   "name": "python",
   "nbconvert_exporter": "python",
   "pygments_lexer": "ipython3",
   "version": "3.9.11"
  }
 },
 "nbformat": 4,
 "nbformat_minor": 5
}
